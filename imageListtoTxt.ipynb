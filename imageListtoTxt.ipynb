{
 "cells": [
  {
   "cell_type": "code",
   "execution_count": 1,
   "id": "6d312ea1",
   "metadata": {},
   "outputs": [],
   "source": [
    "import numpy as np\n",
    "import os\n",
    "import glob"
   ]
  },
  {
   "cell_type": "code",
   "execution_count": 4,
   "id": "99dd51c3",
   "metadata": {},
   "outputs": [],
   "source": [
    "\n",
    "files = glob.glob(\"obj\\\\*.jpg\")"
   ]
  },
  {
   "cell_type": "code",
   "execution_count": 5,
   "id": "0eb7e15f",
   "metadata": {},
   "outputs": [
    {
     "data": {
      "text/plain": [
       "['obj\\\\CV005C-1_3_png.rf.475368291042b62aaa0751e248f006b2.jpg',\n",
       " 'obj\\\\CV071P-5_3_png.rf.1ed23e8712f69de7b9086579e5415399.jpg',\n",
       " 'obj\\\\CV071P-5_3_png.rf.897a26370c07b40de2a7e5c0e9c2d0f3.jpg',\n",
       " 'obj\\\\CV114P-2_3_png.rf.0f6fbfefa83d31d7bf23bcbb38368751.jpg',\n",
       " 'obj\\\\CV114P-2_3_png.rf.d133e4d8d42c2e514e7bcd9302488587.jpg',\n",
       " 'obj\\\\CV118C-5_3_png.rf.0c7cbb12c82f8bfa463a13d3a416f66f.jpg',\n",
       " 'obj\\\\CV118C-5_3_png.rf.d2f56979963d5882ec0f954fa70a4089.jpg',\n",
       " 'obj\\\\CV138C-4_3_png.rf.4b0d1cc103ef80c7736eff7db3800632.jpg',\n",
       " 'obj\\\\CV140P-4_3_png.rf.868724ce40c543e02005dc20daf1206f.jpg',\n",
       " 'obj\\\\CV140P-4_3_png.rf.86cb8a10a3170a2cd62fb9e72cc504ac.jpg',\n",
       " 'obj\\\\CV140P-5_3_png.rf.249ab7a320b86752dfba19d016074733.jpg',\n",
       " 'obj\\\\CV140P-5_3_png.rf.d246c24a513a833662f054ad4832a5e5.jpg',\n",
       " 'obj\\\\CV156C-5_3_png.rf.bfed426b6e3af65780fbe1ec605343ae.jpg',\n",
       " 'obj\\\\CV184P-2_3_png.rf.579cff94d74a7630243e116603327be2.jpg',\n",
       " 'obj\\\\CV216C-1_3_png.rf.0868602a2c680a3fe2e59d690c6d0c91.jpg',\n",
       " 'obj\\\\CV216C-1_3_png.rf.2e9ca2d5858b002b8868984c9bfabf63.jpg',\n",
       " 'obj\\\\CV293C-1_3_png.rf.0b73febfea4fffd43f437f034a515886.jpg',\n",
       " 'obj\\\\CV293C-1_3_png.rf.f4d9794998b720bca7fed5f7fdfadfdf.jpg',\n",
       " 'obj\\\\CV300C-4_3_png.rf.320a632af7111b114a76a453fbb52fa4.jpg',\n",
       " 'obj\\\\CV300C-5_3_png.rf.9410cb7a416ca792c6e681eeeb9f3f2d.jpg',\n",
       " 'obj\\\\CV302C-5_3_png.rf.2ea398564237da192aa67b3dc3e9f38e.jpg',\n",
       " 'obj\\\\CV339C-2_3_png.rf.4920ed858643adc7657d68cb904aa776.jpg',\n",
       " 'obj\\\\CV339C-2_3_png.rf.69f555b4fa5adf2d35122d1f42d38552.jpg']"
      ]
     },
     "execution_count": 5,
     "metadata": {},
     "output_type": "execute_result"
    }
   ],
   "source": [
    "files"
   ]
  },
  {
   "cell_type": "code",
   "execution_count": 9,
   "id": "0886eb78",
   "metadata": {},
   "outputs": [],
   "source": [
    "with open('train_pvc.txt', \"w\") as fhandle:\n",
    "    for file in files:\n",
    "        write_file = \"/content/ecg/obj/\" + file.split(\"\\\\\")[-1]\n",
    "        fhandle.write(f'{write_file}\\n')"
   ]
  },
  {
   "cell_type": "code",
   "execution_count": 10,
   "id": "52d8b593",
   "metadata": {},
   "outputs": [],
   "source": [
    "with open('valid_pvc.txt', \"w\") as fhandle:\n",
    "    for file in files:\n",
    "        write_file = \"/content/ecg/obj/\" + file.split(\"\\\\\")[-1]\n",
    "        fhandle.write(f'{write_file}\\n')"
   ]
  },
  {
   "cell_type": "code",
   "execution_count": null,
   "id": "ef240481",
   "metadata": {},
   "outputs": [],
   "source": []
  }
 ],
 "metadata": {
  "kernelspec": {
   "display_name": "Python 3 (ipykernel)",
   "language": "python",
   "name": "python3"
  },
  "language_info": {
   "codemirror_mode": {
    "name": "ipython",
    "version": 3
   },
   "file_extension": ".py",
   "mimetype": "text/x-python",
   "name": "python",
   "nbconvert_exporter": "python",
   "pygments_lexer": "ipython3",
   "version": "3.10.0"
  }
 },
 "nbformat": 4,
 "nbformat_minor": 5
}
